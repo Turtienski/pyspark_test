{
 "cells": [
  {
   "cell_type": "markdown",
   "metadata": {},
   "source": [
    "# Objetivo do teste:\n",
    "\n",
    "## Avaliar o seu conhecimento em Pyspark e boas práticas de programação.\n",
    "Carregue a base abaixo, aplique os casos e grave a saída em um arquivo .parquet.\n",
    "Base:\n",
    "\n",
    "001;José;Anápolis;São Paulo;01-09-1900 <br />\n",
    "02;Igor;Anápolis;São Paulo;11-09-1977 <br />\n",
    "3;Leonardo;Anápolis;São Paulo;21-12-2000<br />\n",
    "04;Humberto;Pato Branco;Rio Grande do Sul;13-11-1964<br />\n",
    "005;Isaias;Pato Branco;Rio Grande do Sul;07-07-2002<br />\n",
    "6;Lucas;Taua;Ceará;05-09-1984 <br />\n",
    "\n",
    "**Schema da base: cod_cliente, Nome, Município, Estado, data de nascimento.**\n",
    "* [**Caso 1 – Adicionar 1 coluna com um contador sequencial por Município e ordenar por Estado.**](#http://localhost:8888/notebooks/Spark/Teste%20Pyspark.ipynb#Caso-1-%E2%80%93-Adicionar-1-coluna-com-um-contador-sequencial-por-Munic%C3%ADpio-e-ordenar-por-Estado.)\n",
    "* [**Caso 2 - Adicionar 1 coluna com a Idade em anos e na coluna cod_cliente formatar o campo com 3 posições a esquerda completando com “0”.**](#http://localhost:8888/notebooks/Spark/Teste%20Pyspark.ipynb#Caso-2---Adicionar-1-coluna-com-a-Idade-em-anos-e-na-coluna-cod_cliente-formatar-o-campo-com-3-posi%C3%A7%C3%B5es-a-esquerda-completando-com-%E2%80%9C0%E2%80%9D.)\n",
    "* [**Caso 3 - Adicionar 1 coluna com a data de atualização, preenchendo com a data do dia da execução e retirar os caracteres especiais do campo Estado.**](#http://localhost:8888/notebooks/Spark/Teste%20Pyspark.ipynb#Caso-3---Adicionar-1-coluna-com-a-data-de-atualiza%C3%A7%C3%A3o,-preenchendo-com-a-data-do-dia-da-execu%C3%A7%C3%A3o-e-retirar-os-caracteres-especiais-do-campo-Estado.)\n",
    "\n",
    "OBS.: Criei um csv da base "
   ]
  },
  {
   "cell_type": "markdown",
   "metadata": {},
   "source": [
    "### Preparando o dataset\n"
   ]
  },
  {
   "cell_type": "code",
   "execution_count": 1,
   "metadata": {},
   "outputs": [],
   "source": [
    "from pyspark.sql.functions import  row_number, to_date, datediff, current_date, floor, lpad, date_format, regexp_replace\n",
    "from pyspark import SparkContext \n",
    "import pandas as pd\n",
    "from pyspark.sql import SQLContext \n",
    "from pyspark.sql.window import *\n",
    "\n"
   ]
  },
  {
   "cell_type": "code",
   "execution_count": 2,
   "metadata": {},
   "outputs": [],
   "source": [
    "sc = SparkContext()\n",
    "sqlContext=SQLContext(sc) \n",
    "df=pd.read_csv('base.csv', sep = ';', encoding='utf-8') \n",
    "sdf=sqlContext.createDataFrame(df) "
   ]
  },
  {
   "cell_type": "code",
   "execution_count": 3,
   "metadata": {},
   "outputs": [
    {
     "data": {
      "text/html": [
       "<div>\n",
       "<style scoped>\n",
       "    .dataframe tbody tr th:only-of-type {\n",
       "        vertical-align: middle;\n",
       "    }\n",
       "\n",
       "    .dataframe tbody tr th {\n",
       "        vertical-align: top;\n",
       "    }\n",
       "\n",
       "    .dataframe thead th {\n",
       "        text-align: right;\n",
       "    }\n",
       "</style>\n",
       "<table border=\"1\" class=\"dataframe\">\n",
       "  <thead>\n",
       "    <tr style=\"text-align: right;\">\n",
       "      <th></th>\n",
       "      <th>cod_cliente</th>\n",
       "      <th>Nome</th>\n",
       "      <th>Município</th>\n",
       "      <th>Estado</th>\n",
       "      <th>data de nascimento</th>\n",
       "    </tr>\n",
       "  </thead>\n",
       "  <tbody>\n",
       "    <tr>\n",
       "      <th>0</th>\n",
       "      <td>1</td>\n",
       "      <td>José</td>\n",
       "      <td>Anápolis</td>\n",
       "      <td>São Paulo</td>\n",
       "      <td>01-09-1900</td>\n",
       "    </tr>\n",
       "    <tr>\n",
       "      <th>1</th>\n",
       "      <td>2</td>\n",
       "      <td>Igor</td>\n",
       "      <td>Anápolis</td>\n",
       "      <td>São Paulo</td>\n",
       "      <td>11-09-1977</td>\n",
       "    </tr>\n",
       "    <tr>\n",
       "      <th>2</th>\n",
       "      <td>3</td>\n",
       "      <td>Leonardo</td>\n",
       "      <td>Anápolis</td>\n",
       "      <td>São Paulo</td>\n",
       "      <td>21-12-2000</td>\n",
       "    </tr>\n",
       "    <tr>\n",
       "      <th>3</th>\n",
       "      <td>4</td>\n",
       "      <td>Humberto</td>\n",
       "      <td>Pato Branco</td>\n",
       "      <td>Rio Grande do Sul</td>\n",
       "      <td>13-11-1964</td>\n",
       "    </tr>\n",
       "    <tr>\n",
       "      <th>4</th>\n",
       "      <td>5</td>\n",
       "      <td>Isaias</td>\n",
       "      <td>Pato Branco</td>\n",
       "      <td>Rio Grande do Sul</td>\n",
       "      <td>07-07-2002</td>\n",
       "    </tr>\n",
       "    <tr>\n",
       "      <th>5</th>\n",
       "      <td>6</td>\n",
       "      <td>Lucas</td>\n",
       "      <td>Taua</td>\n",
       "      <td>Ceará</td>\n",
       "      <td>05-09-1984</td>\n",
       "    </tr>\n",
       "  </tbody>\n",
       "</table>\n",
       "</div>"
      ],
      "text/plain": [
       "   cod_cliente      Nome    Município             Estado data de nascimento\n",
       "0            1      José     Anápolis          São Paulo         01-09-1900\n",
       "1            2      Igor     Anápolis          São Paulo         11-09-1977\n",
       "2            3  Leonardo     Anápolis          São Paulo         21-12-2000\n",
       "3            4  Humberto  Pato Branco  Rio Grande do Sul         13-11-1964\n",
       "4            5    Isaias  Pato Branco  Rio Grande do Sul         07-07-2002\n",
       "5            6     Lucas         Taua              Ceará         05-09-1984"
      ]
     },
     "execution_count": 3,
     "metadata": {},
     "output_type": "execute_result"
    }
   ],
   "source": [
    "df"
   ]
  },
  {
   "cell_type": "code",
   "execution_count": 4,
   "metadata": {},
   "outputs": [
    {
     "data": {
      "text/plain": [
       "DataFrame[cod_cliente: bigint, Nome: string, Município: string, Estado: string, data de nascimento: string]"
      ]
     },
     "execution_count": 4,
     "metadata": {},
     "output_type": "execute_result"
    }
   ],
   "source": [
    "sdf"
   ]
  },
  {
   "cell_type": "markdown",
   "metadata": {},
   "source": [
    "### Caso 1 – Adicionar 1 coluna com um contador sequencial por Município e ordenar por Estado.\n"
   ]
  },
  {
   "cell_type": "code",
   "execution_count": 5,
   "metadata": {},
   "outputs": [
    {
     "name": "stdout",
     "output_type": "stream",
     "text": [
      "+-----------+--------+-----------+-----------------+------------------+-----------------+\n",
      "|cod_cliente|    Nome|  Município|           Estado|data de nascimento|row_num_municipio|\n",
      "+-----------+--------+-----------+-----------------+------------------+-----------------+\n",
      "|          6|   Lucas|       Taua|            Ceará|        05-09-1984|                1|\n",
      "|          4|Humberto|Pato Branco|Rio Grande do Sul|        13-11-1964|                1|\n",
      "|          5|  Isaias|Pato Branco|Rio Grande do Sul|        07-07-2002|                2|\n",
      "|          1|    José|   Anápolis|        São Paulo|        01-09-1900|                1|\n",
      "|          3|Leonardo|   Anápolis|        São Paulo|        21-12-2000|                3|\n",
      "|          2|    Igor|   Anápolis|        São Paulo|        11-09-1977|                2|\n",
      "+-----------+--------+-----------+-----------------+------------------+-----------------+\n",
      "\n"
     ]
    }
   ],
   "source": [
    "sdf = sdf.withColumn(\"row_num_municipio\", row_number().over(Window.partitionBy(\"Município\").orderBy(\"Município\"))).sort(\"Estado\")\n",
    "sdf.show()"
   ]
  },
  {
   "cell_type": "markdown",
   "metadata": {},
   "source": [
    "### Caso 2 - Adicionar 1 coluna com a Idade em anos e na coluna cod_cliente formatar o campo com 3 posições a esquerda completando com “0”."
   ]
  },
  {
   "cell_type": "code",
   "execution_count": 6,
   "metadata": {},
   "outputs": [
    {
     "name": "stdout",
     "output_type": "stream",
     "text": [
      "+-----------+--------+-----------+-----------------+------------------+-----------------+-----+\n",
      "|cod_cliente|    Nome|  Município|           Estado|data de nascimento|row_num_municipio|idade|\n",
      "+-----------+--------+-----------+-----------------+------------------+-----------------+-----+\n",
      "|        006|   Lucas|       Taua|            Ceará|        05-09-1984|                1|   36|\n",
      "|        004|Humberto|Pato Branco|Rio Grande do Sul|        13-11-1964|                1|   56|\n",
      "|        005|  Isaias|Pato Branco|Rio Grande do Sul|        07-07-2002|                2|   19|\n",
      "|        001|    José|   Anápolis|        São Paulo|        01-09-1900|                1|  120|\n",
      "|        002|    Igor|   Anápolis|        São Paulo|        11-09-1977|                2|   43|\n",
      "|        003|Leonardo|   Anápolis|        São Paulo|        21-12-2000|                3|   20|\n",
      "+-----------+--------+-----------+-----------------+------------------+-----------------+-----+\n",
      "\n"
     ]
    }
   ],
   "source": [
    "from pyspark.sql.functions import to_date, datediff, current_date, floor, lpad, date_format\n",
    "\n",
    "# criando coluna com idade\n",
    "sdf = sdf.withColumn(\"idade\",floor(datediff(current_date(), to_date(\"data de nascimento\",'dd-MM-yyyy'))/(365.25)))\n",
    "\n",
    "# formatando cod_cliente para três dígitos\n",
    "sdf = sdf.withColumn(\"cod_cliente\", lpad(\"cod_cliente\", 3, '0'))\n",
    "\n",
    "\n",
    "sdf.show()"
   ]
  },
  {
   "cell_type": "markdown",
   "metadata": {},
   "source": [
    "### Caso 3 - Adicionar 1 coluna com a data de atualização, preenchendo com a data do dia da execução e retirar os caracteres especiais do campo Estado."
   ]
  },
  {
   "cell_type": "code",
   "execution_count": 7,
   "metadata": {},
   "outputs": [
    {
     "name": "stdout",
     "output_type": "stream",
     "text": [
      "+-----------+--------+-----------+-----------------+------------------+-----------------+-----+-------------------+\n",
      "|cod_cliente|    Nome|  Município|           Estado|data de nascimento|row_num_municipio|idade|data_de_atualizacao|\n",
      "+-----------+--------+-----------+-----------------+------------------+-----------------+-----+-------------------+\n",
      "|        006|   Lucas|       Taua|            Ceará|        05-09-1984|                1|   36|         19-07-2021|\n",
      "|        005|  Isaias|Pato Branco|Rio Grande do Sul|        07-07-2002|                2|   19|         19-07-2021|\n",
      "|        004|Humberto|Pato Branco|Rio Grande do Sul|        13-11-1964|                1|   56|         19-07-2021|\n",
      "|        001|    José|   Anápolis|        São Paulo|        01-09-1900|                1|  120|         19-07-2021|\n",
      "|        002|    Igor|   Anápolis|        São Paulo|        11-09-1977|                2|   43|         19-07-2021|\n",
      "|        003|Leonardo|   Anápolis|        São Paulo|        21-12-2000|                3|   20|         19-07-2021|\n",
      "+-----------+--------+-----------+-----------------+------------------+-----------------+-----+-------------------+\n",
      "\n"
     ]
    }
   ],
   "source": [
    "# criando coluna com a data de atualização\n",
    "\n",
    "sdf = sdf.withColumn(\"data_de_atualizacao\",date_format(current_date(), 'dd-MM-yyyy'))\n",
    "sdf.show()"
   ]
  },
  {
   "cell_type": "code",
   "execution_count": 8,
   "metadata": {},
   "outputs": [
    {
     "name": "stdout",
     "output_type": "stream",
     "text": [
      "+-----------+--------+-----------+-----------------+------------------+-----------------+-----+-------------------+\n",
      "|cod_cliente|    Nome|  Município|           Estado|data de nascimento|row_num_municipio|idade|data_de_atualizacao|\n",
      "+-----------+--------+-----------+-----------------+------------------+-----------------+-----+-------------------+\n",
      "|        006|   Lucas|       Taua|            Ceara|        05-09-1984|                1|   36|         19-07-2021|\n",
      "|        004|Humberto|Pato Branco|Rio Grande do Sul|        13-11-1964|                1|   56|         19-07-2021|\n",
      "|        005|  Isaias|Pato Branco|Rio Grande do Sul|        07-07-2002|                2|   19|         19-07-2021|\n",
      "|        001|    José|   Anápolis|        Sao Paulo|        01-09-1900|                1|  120|         19-07-2021|\n",
      "|        003|Leonardo|   Anápolis|        Sao Paulo|        21-12-2000|                3|   20|         19-07-2021|\n",
      "|        002|    Igor|   Anápolis|        Sao Paulo|        11-09-1977|                2|   43|         19-07-2021|\n",
      "+-----------+--------+-----------+-----------------+------------------+-----------------+-----+-------------------+\n",
      "\n"
     ]
    }
   ],
   "source": [
    "# removendo caracteres especiais \n",
    "sdf = sdf.withColumn(\"Estado\", regexp_replace(\"Estado\", \"[áàâã]\", \"a\"))\n",
    "sdf = sdf.withColumn(\"Estado\", regexp_replace(\"Estado\", \"[éèê]\", \"e\"))\n",
    "sdf = sdf.withColumn(\"Estado\", regexp_replace(\"Estado\", \"[íï]\", \"i\"))\n",
    "sdf = sdf.withColumn(\"Estado\", regexp_replace(\"Estado\", \"[óôõö]\", \"o\"))\n",
    "sdf = sdf.withColumn(\"Estado\", regexp_replace(\"Estado\", \"[úü]\", \"u\"))\n",
    "\n",
    "sdf.show()"
   ]
  },
  {
   "cell_type": "markdown",
   "metadata": {},
   "source": [
    "#### salvando o arquivo em formato parquet "
   ]
  },
  {
   "cell_type": "code",
   "execution_count": 9,
   "metadata": {},
   "outputs": [],
   "source": [
    "sdf = sdf.withColumnRenamed(\"data de nascimento\", \"data_de_nascimento\")\n",
    "sdf.write.parquet(\"base.parquet\")"
   ]
  }
 ],
 "metadata": {
  "kernelspec": {
   "display_name": "Python 3",
   "language": "python",
   "name": "python3"
  },
  "language_info": {
   "codemirror_mode": {
    "name": "ipython",
    "version": 3
   },
   "file_extension": ".py",
   "mimetype": "text/x-python",
   "name": "python",
   "nbconvert_exporter": "python",
   "pygments_lexer": "ipython3",
   "version": "3.7.7"
  }
 },
 "nbformat": 4,
 "nbformat_minor": 4
}
